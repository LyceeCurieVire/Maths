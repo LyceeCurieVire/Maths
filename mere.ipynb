{
 "cells": [
  {
   "cell_type": "markdown",
   "metadata": {},
   "source": [
    "# Le problème du chevalier de Méré"
   ]
  },
  {
   "cell_type": "markdown",
   "metadata": {},
   "source": [
    "On a droit à quatre coups pour obtenir un 6 avec un dé cubique équilibré."
   ]
  },
  {
   "cell_type": "markdown",
   "metadata": {},
   "source": [
    "## Simuler une partie \n",
    "On va utiliser la fonction `random.randint` pour simuler un dé ;\n",
    "la fonction `partie()` va renvoyer 1, 2, 3 ou 4 pour dire qu'une partie a été gagnée en ce nombre de coups,\n",
    "et on convient qu'elle renverra 5 pour une partie perdue."
   ]
  },
  {
   "cell_type": "code",
   "execution_count": 1,
   "metadata": {},
   "outputs": [
    {
     "name": "stdout",
     "output_type": "stream",
     "text": [
      "Return random integer in range [a, b], including both end points.\n",
      "        \n"
     ]
    }
   ],
   "source": [
    "from random import randint\n",
    "print(randint.__doc__)"
   ]
  },
  {
   "cell_type": "code",
   "execution_count": 2,
   "metadata": {},
   "outputs": [],
   "source": [
    "def partie():\n",
    "    if randint(1,6)==6:\n",
    "        return 1\n",
    "    elif randint(1,6)==6:\n",
    "        return 2\n",
    "    elif randint(1,6)==6:\n",
    "        return 3\n",
    "    elif randint(1,6)==6:\n",
    "        return 4\n",
    "    else:\n",
    "        return 5"
   ]
  },
  {
   "cell_type": "code",
   "execution_count": 3,
   "metadata": {},
   "outputs": [
    {
     "data": {
      "text/plain": [
       "5"
      ]
     },
     "execution_count": 3,
     "metadata": {},
     "output_type": "execute_result"
    }
   ],
   "source": [
    "partie()"
   ]
  },
  {
   "cell_type": "code",
   "execution_count": 4,
   "metadata": {},
   "outputs": [
    {
     "data": {
      "text/plain": [
       "(4, 5, 5)"
      ]
     },
     "execution_count": 4,
     "metadata": {},
     "output_type": "execute_result"
    }
   ],
   "source": [
    "partie(),partie(),partie()"
   ]
  },
  {
   "cell_type": "code",
   "execution_count": 5,
   "metadata": {},
   "outputs": [
    {
     "name": "stdout",
     "output_type": "stream",
     "text": [
      "[5, 2, 5, 1, 4, 2, 2, 5, 2, 5, 5, 3, 2, 5, 5, 5, 2, 1, 2, 2]\n"
     ]
    }
   ],
   "source": [
    "parties=[]\n",
    "for k in range(20):\n",
    "    parties.append(partie())\n",
    "print(parties)"
   ]
  },
  {
   "cell_type": "markdown",
   "metadata": {},
   "source": [
    "## Simuler plusieurs parties"
   ]
  },
  {
   "cell_type": "markdown",
   "metadata": {},
   "source": [
    "Il suffit simplement d'appeler plusieurs fois la fonction `partie()`, p.ex en ajoutant dans une boucle les réponses à la fin d'une liste avec `append`.\n",
    "\n",
    "Cependant la liste obtenue n'est pas très lisible. Nous écrivons une fonction qui va compter chacun des cinq résultats possibles."
   ]
  },
  {
   "cell_type": "code",
   "execution_count": 6,
   "metadata": {},
   "outputs": [],
   "source": [
    "def compte(liste_résultats):\n",
    "    effectifs=[0,0,0,0,0]\n",
    "    for k in liste_résultats:\n",
    "        effectifs[k-1]+=1  # k est entre 1 et 5 mais les indices sont entre 0 et 4\n",
    "    return effectifs"
   ]
  },
  {
   "cell_type": "code",
   "execution_count": 7,
   "metadata": {},
   "outputs": [
    {
     "name": "stdout",
     "output_type": "stream",
     "text": [
      "[2, 8, 1, 1, 8]\n"
     ]
    }
   ],
   "source": [
    "print(compte(parties))"
   ]
  },
  {
   "cell_type": "code",
   "execution_count": 8,
   "metadata": {},
   "outputs": [],
   "source": [
    "def taux_réussite(effectifs):\n",
    "    return 1-effectifs[4]/sum(effectifs)"
   ]
  },
  {
   "cell_type": "code",
   "execution_count": 9,
   "metadata": {},
   "outputs": [
    {
     "data": {
      "text/plain": [
       "0.6"
      ]
     },
     "execution_count": 9,
     "metadata": {},
     "output_type": "execute_result"
    }
   ],
   "source": [
    "taux_réussite(compte(parties))"
   ]
  },
  {
   "cell_type": "markdown",
   "metadata": {},
   "source": [
    "**Ex1** Calculer le taux de résussite sur 10000 parties. Recommencer. Est-ce que le taux fluctue beaucoup ?"
   ]
  },
  {
   "cell_type": "code",
   "execution_count": null,
   "metadata": {},
   "outputs": [],
   "source": []
  },
  {
   "cell_type": "code",
   "execution_count": null,
   "metadata": {},
   "outputs": [],
   "source": []
  },
  {
   "cell_type": "code",
   "execution_count": null,
   "metadata": {},
   "outputs": [],
   "source": []
  },
  {
   "cell_type": "markdown",
   "metadata": {},
   "source": [
    "## Faire un graphique"
   ]
  },
  {
   "cell_type": "markdown",
   "metadata": {},
   "source": [
    "On va utiliser la bibliothèque `matplotlib.pyplot` pour représenter graphiquement les issues des parties jouées."
   ]
  },
  {
   "cell_type": "code",
   "execution_count": 10,
   "metadata": {},
   "outputs": [],
   "source": [
    "import matplotlib.pyplot as plt"
   ]
  },
  {
   "cell_type": "code",
   "execution_count": 22,
   "metadata": {},
   "outputs": [],
   "source": [
    "n=100\n",
    "res=[]\n",
    "for k in range(n):\n",
    "    res.append(partie())\n",
    "eff=compte(res)"
   ]
  },
  {
   "cell_type": "code",
   "execution_count": 23,
   "metadata": {},
   "outputs": [
    {
     "data": {
      "text/plain": [
       "<BarContainer object of 5 artists>"
      ]
     },
     "execution_count": 23,
     "metadata": {},
     "output_type": "execute_result"
    },
    {
     "data": {
      "image/png": "[encoded data removed]",
      "text/plain": [
       "<Figure size 432x288 with 1 Axes>"
      ]
     },
     "metadata": {
      "needs_background": "light"
     },
     "output_type": "display_data"
    }
   ],
   "source": [
    "plt.bar([1,2,3,4,5],eff)"
   ]
  },
  {
   "cell_type": "markdown",
   "metadata": {},
   "source": [
    "**Ex2** Refaire la manipulation avec $n=1000$ parties. Recommencer plusieurs fois."
   ]
  },
  {
   "cell_type": "code",
   "execution_count": null,
   "metadata": {},
   "outputs": [],
   "source": []
  },
  {
   "cell_type": "markdown",
   "metadata": {},
   "source": [
    "## Calculer des probabilités a posteriori"
   ]
  },
  {
   "cell_type": "markdown",
   "metadata": {},
   "source": [
    "La notion de probabilités *a posteriori* n'existe pas mais certaines personnes utilisent ce vocable pour parler de fréquences."
   ]
  },
  {
   "cell_type": "markdown",
   "metadata": {},
   "source": [
    "**Ex3** Refaire le graphique de l'exercice 2 avec un effectif total $n=1000$ en utilisant les fréquences plutôt que les effectifs."
   ]
  },
  {
   "cell_type": "code",
   "execution_count": null,
   "metadata": {},
   "outputs": [],
   "source": []
  }
 ],
 "metadata": {
  "kernelspec": {
   "display_name": "Python 3",
   "language": "python",
   "name": "python3"
  },
  "language_info": {
   "codemirror_mode": {
    "name": "ipython",
    "version": 3
   },
   "file_extension": ".py",
   "mimetype": "text/x-python",
   "name": "python",
   "nbconvert_exporter": "python",
   "pygments_lexer": "ipython3",
   "version": "3.8.2"
  }
 },
 "nbformat": 4,
 "nbformat_minor": 4
}
