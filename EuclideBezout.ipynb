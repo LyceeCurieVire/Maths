{
 "cells": [
  {
   "cell_type": "markdown",
   "metadata": {},
   "source": [
    "# Python pour l'Arithmétique"
   ]
  },
  {
   "cell_type": "markdown",
   "metadata": {},
   "source": [
    "La Division Euclidienne en Python utilise deux opérateurs :\n",
    "* `//` donne le **quotient** entier de deux nombres entiers, \n",
    "* `%` donne le **reste** (on dit aussi le **modulo**)"
   ]
  },
  {
   "cell_type": "code",
   "execution_count": null,
   "metadata": {},
   "outputs": [],
   "source": [
    "a=1000\n",
    "b=300\n",
    "q=a//b\n",
    "r=a%b\n",
    "print(q,r)\n",
    "print(a==b*q+r)"
   ]
  },
  {
   "cell_type": "markdown",
   "metadata": {},
   "source": [
    "Ne pas confondre l'opérateur d'**affectation** `=` avec l'opérateur de **comparaison** `==`."
   ]
  },
  {
   "cell_type": "markdown",
   "metadata": {},
   "source": [
    "Les deux lignes suivantes permettent d'utiliser <a href=\"pythontutor.com\">PythonTutor</a> à l'intérieur du notebook Jupyter, à condition que la bibliothèque `metakernel` soit installée."
   ]
  },
  {
   "cell_type": "code",
   "execution_count": null,
   "metadata": {},
   "outputs": [],
   "source": [
    "from metakernel import register_ipython_magics\n",
    "register_ipython_magics()"
   ]
  },
  {
   "cell_type": "markdown",
   "metadata": {},
   "source": [
    "Une cellule qui commence par `%%tutor` sera exécutée pas-à-pas en visualisant les valeurs des variables."
   ]
  },
  {
   "cell_type": "code",
   "execution_count": null,
   "metadata": {},
   "outputs": [],
   "source": [
    "%%tutor\n",
    "a=1000\n",
    "b=300\n",
    "q=a//b\n",
    "r=a%b\n",
    "print(q,r)\n",
    "print(a==b*q+r)"
   ]
  },
  {
   "cell_type": "markdown",
   "metadata": {},
   "source": [
    "Attention à ne pas confondre la division entière `//` avec la division décimale `/`, cette dernière a pour résultat un **flottant** même si la division tombe juste."
   ]
  },
  {
   "cell_type": "code",
   "execution_count": null,
   "metadata": {},
   "outputs": [],
   "source": [
    "print(25//3)\n",
    "print(25/3)\n",
    "print(30//3)\n",
    "print(30/3)"
   ]
  },
  {
   "cell_type": "markdown",
   "metadata": {},
   "source": [
    "## L'algorithme d'Euclide"
   ]
  },
  {
   "cell_type": "code",
   "execution_count": null,
   "metadata": {},
   "outputs": [],
   "source": [
    "%%tutor\n",
    "def euclide(a,b):\n",
    "    while b!=0:\n",
    "        r=a%b\n",
    "        a=b\n",
    "        b=r\n",
    "    return a\n",
    "\n",
    "print(euclide(350,75))"
   ]
  },
  {
   "cell_type": "markdown",
   "metadata": {},
   "source": [
    "## L'algorithme d'Euclide Bézout"
   ]
  },
  {
   "cell_type": "markdown",
   "metadata": {},
   "source": [
    "L'algorithme d'Euclide-Bézout est une variante de l'algorithme d'Euclide qui permet de calculer, en plus du PGCD $d$ des deux nombres entiers $a$ et $b$ passés en paramètres, des coefficients de Bézout $u$ et $v$ tels que $au+bv=d$."
   ]
  },
  {
   "cell_type": "markdown",
   "metadata": {},
   "source": [
    "|$q$| | |\n",
    "|-|-|-|\n",
    "|$r$|350|75|\n",
    "|$u$|1|0|\n",
    "|$v$|0|1|"
   ]
  },
  {
   "cell_type": "markdown",
   "metadata": {},
   "source": [
    "On initialise l'algorithme en écrivant quatre lignes nommées $q$, $r$, $u$ et $v$.\n",
    "\n",
    "Dans la ligne $r$ des restes successifs, on écrit les valeurs de $a$ et de $b$.\n",
    "\n",
    "Les lignes $u$ et $v$ sont initialisées comme ci-dessus.\n",
    "\n",
    "Le point crucial est que pour chaque colonne on aura $r=au+bv$, ce qui se vérifie aisément pour les deux premières colonnes. \n",
    "\n",
    "Dans cette égalité, $a$ et $b$ désignent les valeurs des deux nombres dont on cherche le PGCD.\n"
   ]
  },
  {
   "cell_type": "markdown",
   "metadata": {},
   "source": [
    "Chaque colonne est complétée en écrivant dans la ligne $q$ le quotient dans la DE de l'avant dernière valeur de $r$ par la dernière valeur de $r$, et dans la ligne de $r$ le reste de cette même division, ce qu'on peut écrire $r_{n-1}=r_n q_{n+1} +r_{n+1}$, ici $350=75 \\times 4+50$.\n",
    "\n",
    "On a donc $r_{n+1}=r_{n-1}-r_n q_{n+1}$ ; notons que les suites $(r_n)$, $(u_n)$ et $(v_n)$ commencent au rang $n=0$, \n",
    "\n",
    "tandis que la suite $(q_n)$ commence au rang $n=2$.   "
   ]
  },
  {
   "cell_type": "markdown",
   "metadata": {},
   "source": [
    "|$q$| | |4|\n",
    "|-|-|-|-|\n",
    "|$r$|350|75|50|\n",
    "|$u$|1|0|1|\n",
    "|$v$|0|1|-4|"
   ]
  },
  {
   "cell_type": "markdown",
   "metadata": {},
   "source": [
    "La **même** relation de récurrence est utilisée pour les suites $(r_n)$, $(u_n)$ et $(v_n)$ :\n",
    "* $u_{n+1}=u_{n-1}-u_n q_{n+1}$, ici $u_{2}=u_{0}-u_1 q_{2}=1-4 \\times 0=1$,\n",
    "* $v_{n+1}=v_{n-1}-v_n q_{n+1}$, ici $v_{2}=v_{0}-v_1 q_{2}=0-4 \\times 1=-4$.\n",
    "\n",
    "Dit autrement, le nouveau vecteur $\\left(\\begin{array}{c}r\\\\u\\\\v\\end{array}\\right)$ est égal à l'avant dernier moins $q$ fois le dernier."
   ]
  },
  {
   "cell_type": "markdown",
   "metadata": {},
   "source": [
    "On recommence jusqu'à ce que le reste soit nul, comme pour l'algorithme d'Euclide.\n",
    "\n",
    "La terminaison de l'algorithme d'Euclide-Bézout est assurée par la stricte décroissance de la suite des restes successifs et par le principe de la descente infinie, comme la terminaison de l'algorithme d'Euclide."
   ]
  },
  {
   "cell_type": "markdown",
   "metadata": {},
   "source": [
    "**Exercice** Prouver par **récurrence forte** la propriété $P_n : r_n=a u_n +b v_n$."
   ]
  },
  {
   "cell_type": "markdown",
   "metadata": {},
   "source": [
    "Avec la DE $75=50\\times 1 +25$, l'étape suivante est :\n",
    "\n",
    "|$q$| | |4|1|\n",
    "|-|-|-|-|-|\n",
    "|$r$|350|75|50|25|\n",
    "|$u$|1|0|1|-1|\n",
    "|$v$|0|1|-4|5|"
   ]
  },
  {
   "cell_type": "markdown",
   "metadata": {},
   "source": [
    "**Exercice** Finir l'exécution à la main de cet algorithme. *La solution est un peu plus bas*."
   ]
  },
  {
   "cell_type": "code",
   "execution_count": null,
   "metadata": {},
   "outputs": [],
   "source": []
  },
  {
   "cell_type": "code",
   "execution_count": null,
   "metadata": {},
   "outputs": [],
   "source": []
  },
  {
   "cell_type": "code",
   "execution_count": null,
   "metadata": {},
   "outputs": [],
   "source": []
  },
  {
   "cell_type": "code",
   "execution_count": null,
   "metadata": {},
   "outputs": [],
   "source": []
  },
  {
   "cell_type": "code",
   "execution_count": null,
   "metadata": {},
   "outputs": [],
   "source": []
  },
  {
   "cell_type": "code",
   "execution_count": null,
   "metadata": {},
   "outputs": [],
   "source": []
  },
  {
   "cell_type": "code",
   "execution_count": null,
   "metadata": {},
   "outputs": [],
   "source": []
  },
  {
   "cell_type": "code",
   "execution_count": null,
   "metadata": {},
   "outputs": [],
   "source": []
  },
  {
   "cell_type": "code",
   "execution_count": null,
   "metadata": {},
   "outputs": [],
   "source": []
  },
  {
   "cell_type": "code",
   "execution_count": null,
   "metadata": {},
   "outputs": [],
   "source": []
  },
  {
   "cell_type": "code",
   "execution_count": null,
   "metadata": {},
   "outputs": [],
   "source": []
  },
  {
   "cell_type": "code",
   "execution_count": null,
   "metadata": {},
   "outputs": [],
   "source": []
  },
  {
   "cell_type": "markdown",
   "metadata": {},
   "source": [
    "On trouve à la fin :\n",
    "\n",
    "|$q$| | |4|1|2|\n",
    "|-|-|-|-|-|-|\n",
    "|$r$|350|75|50|25|0|\n",
    "|$u$|1|0|1|-1|3|\n",
    "|$v$|0|1|-4|5|-14|\n",
    "\n",
    "avec $25=350(-1)+75\\times 5$."
   ]
  },
  {
   "cell_type": "code",
   "execution_count": null,
   "metadata": {},
   "outputs": [],
   "source": []
  },
  {
   "cell_type": "code",
   "execution_count": null,
   "metadata": {},
   "outputs": [],
   "source": []
  },
  {
   "cell_type": "code",
   "execution_count": null,
   "metadata": {},
   "outputs": [],
   "source": []
  },
  {
   "cell_type": "markdown",
   "metadata": {},
   "source": [
    "**Exercice** En utilisant l'algorithme d'Euclide-Bézout à la main, calculer le PGCD des deux nombres et donner des coefficients de Bézout :\n",
    "1. $a=99099$, $b=43928$\n",
    "2. $a=153527$, $b=245479$\n",
    "\n",
    "Il n'est pas interdit d'utiliser Python pour calculer les quotients et les restes !"
   ]
  },
  {
   "cell_type": "code",
   "execution_count": null,
   "metadata": {},
   "outputs": [],
   "source": []
  },
  {
   "cell_type": "markdown",
   "metadata": {},
   "source": [
    "## Programmation de l'algorithme d'Euclide-Bézout"
   ]
  },
  {
   "cell_type": "markdown",
   "metadata": {},
   "source": [
    "La difficulté essentielle est de travailler sur plusieurs valeurs successives de chaque variable.\n",
    "* Dans un premier temps on utilisera plusieurs variables.\n",
    "* Dans un deuxième temps, après avoir rappelé quelques éléments de manipulation de listes, on gardera en mémoire toutes les valeurs successives de chaque variable dans une liste (une liste pour chacune des variables)."
   ]
  },
  {
   "cell_type": "code",
   "execution_count": null,
   "metadata": {},
   "outputs": [],
   "source": [
    "%%tutor\n",
    "def EuclideBezout(a,b):\n",
    "    r=a\n",
    "    rr=b\n",
    "    u=1\n",
    "    uu=0\n",
    "    v=0\n",
    "    vv=1\n",
    "    while rr!=0:\n",
    "        #on calcule les nouvelles valeurs\n",
    "        q=r//rr\n",
    "        rrr=r-q*rr\n",
    "        uuu=u-q*uu\n",
    "        vvv=v-q*vv\n",
    "        #on décale\n",
    "        r=rr\n",
    "        u=uu\n",
    "        v=vv\n",
    "        rr=rrr\n",
    "        uu=uuu\n",
    "        vv=vvv\n",
    "    return r,u,v\n",
    "\n",
    "print(EuclideBezout(350,75))"
   ]
  },
  {
   "cell_type": "code",
   "execution_count": null,
   "metadata": {},
   "outputs": [],
   "source": []
  },
  {
   "cell_type": "code",
   "execution_count": null,
   "metadata": {},
   "outputs": [],
   "source": []
  },
  {
   "cell_type": "markdown",
   "metadata": {},
   "source": [
    "## Manipulation de listes"
   ]
  },
  {
   "cell_type": "markdown",
   "metadata": {},
   "source": [
    "En Python, une liste est délimitée par des crochets, les éléments sont séparés par des virgules.\n",
    "\n",
    "La liste vide est `[]`."
   ]
  },
  {
   "cell_type": "code",
   "execution_count": null,
   "metadata": {},
   "outputs": [],
   "source": [
    "%%tutor\n",
    "L1=[]\n",
    "L2=[1,2,3,4]\n",
    "print(len(L2))"
   ]
  },
  {
   "cell_type": "markdown",
   "metadata": {},
   "source": [
    "La fonction `len` donne la longueur d'une liste, c'est-à-dire son nombre d'éléments.\n",
    "\n",
    "Les éléments d'une liste `L` sont numérotés de `0` à `len(L)-1`. \n",
    "\n",
    "On accède à un élément d'indice donné en mettant des crochets autour de l'indice."
   ]
  },
  {
   "cell_type": "code",
   "execution_count": null,
   "metadata": {},
   "outputs": [],
   "source": [
    "print(L2)\n",
    "print(L2[0])\n",
    "print(L2[3])"
   ]
  },
  {
   "cell_type": "markdown",
   "metadata": {},
   "source": [
    "**Attention** la numérotation commence à zéro."
   ]
  },
  {
   "cell_type": "code",
   "execution_count": null,
   "metadata": {},
   "outputs": [],
   "source": [
    "%%tutor\n",
    "liste=[2,[],'abc',45.6,True]\n",
    "liste.append('1000')\n",
    "liste.append(1001)\n",
    "liste.append('fin')\n",
    "print(liste[-1])\n",
    "print(liste.pop())\n",
    "print(liste[-1])\n",
    "print(liste.pop())\n",
    "print(liste[-1])\n",
    "print(liste.pop())"
   ]
  },
  {
   "cell_type": "markdown",
   "metadata": {},
   "source": [
    "La méthode `append` de l'objet liste permet d'ajouter un élément en fin de liste.\n",
    "\n",
    "La méthode `pop` renvoie le derneir élément **en le supprimant**.\n",
    "\n",
    "En utilisant un indice négatif, on peut accéder aux éléments de la liste en partant de la fin : `liste[-1]` est le  dernier élément de la liste, `liste[-2]` est l'avant-dernier élément de la liste, et cela va nous être très utile pour Euclide-Bézout. \n",
    "\n",
    "Plus d'infos dans la <a href=\"https://docs.python.org/fr/3/tutorial/datastructures.html\">documentation officielle</a>"
   ]
  },
  {
   "cell_type": "code",
   "execution_count": null,
   "metadata": {},
   "outputs": [],
   "source": []
  },
  {
   "cell_type": "markdown",
   "metadata": {},
   "source": [
    "On peut aussi utiliser une construction intéressanted de Python : les **listes en compréhension**.\n",
    "    \n",
    "Voici un exemple donnant les carrés des 10 premiers entiers naturels."
   ]
  },
  {
   "cell_type": "code",
   "execution_count": null,
   "metadata": {},
   "outputs": [],
   "source": [
    "[n**2 for n in range(10)]"
   ]
  },
  {
   "cell_type": "markdown",
   "metadata": {},
   "source": [
    "Le dixième entier naturel est 9, puisque le premier est zéro."
   ]
  },
  {
   "cell_type": "markdown",
   "metadata": {},
   "source": [
    "## Euclide Bézout avec des listes"
   ]
  },
  {
   "cell_type": "code",
   "execution_count": null,
   "metadata": {},
   "outputs": [],
   "source": [
    "%%tutor\n",
    "def EuclideBezout(a,b):\n",
    "    r=[a,b]\n",
    "    u=[1,0]\n",
    "    v=[0,1]\n",
    "    while r[-1]!=0:\n",
    "        q=r[-2]//r[-1]\n",
    "        r.append(r[-2]-q*r[-1])\n",
    "        u.append(u[-2]-q*u[-1])\n",
    "        v.append(v[-2]-q*v[-1])\n",
    "    return r[-2],u[-2],v[-2]\n",
    "\n",
    "d,x,y=EuclideBezout(99099,43928)\n",
    "\n",
    "print(99099*x+43928*y)"
   ]
  },
  {
   "cell_type": "code",
   "execution_count": null,
   "metadata": {},
   "outputs": [],
   "source": []
  },
  {
   "cell_type": "markdown",
   "metadata": {},
   "source": [
    "## Bonus : la DEFP (décomposition en produit de facteurs premiers)"
   ]
  },
  {
   "cell_type": "code",
   "execution_count": null,
   "metadata": {},
   "outputs": [],
   "source": [
    "%%tutor\n",
    "\n",
    "def DEFP(n):\n",
    "    fp=[]\n",
    "    k=2\n",
    "    while n>1:\n",
    "        while n%k==0:\n",
    "            n=n//k\n",
    "            fp.append(k)\n",
    "        k=k+1\n",
    "    return fp\n",
    "\n",
    "print(DEFP(3432))"
   ]
  },
  {
   "cell_type": "code",
   "execution_count": null,
   "metadata": {},
   "outputs": [],
   "source": []
  },
  {
   "cell_type": "code",
   "execution_count": null,
   "metadata": {},
   "outputs": [],
   "source": []
  }
 ],
 "metadata": {
  "kernelspec": {
   "display_name": "Python 3",
   "language": "python",
   "name": "python3"
  },
  "language_info": {
   "codemirror_mode": {
    "name": "ipython",
    "version": 3
   },
   "file_extension": ".py",
   "mimetype": "text/x-python",
   "name": "python",
   "nbconvert_exporter": "python",
   "pygments_lexer": "ipython3",
   "version": "3.8.2"
  }
 },
 "nbformat": 4,
 "nbformat_minor": 4
}
