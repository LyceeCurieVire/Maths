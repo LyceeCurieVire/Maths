{
 "cells": [
  {
   "cell_type": "markdown",
   "metadata": {},
   "source": [
    "# Simulations"
   ]
  },
  {
   "cell_type": "markdown",
   "metadata": {},
   "source": [
    "Dans ce notebook on va utiliser la fonction `random()` de la bibliothèque du même nom pour simuler des expérienes aléatoires.\n",
    "\n",
    "Cette fonction ne prend pas d'argument et renvoit une valeur aléatoire comprise dans $[0; 1[$. On dit qu'elle réalise une variable aléatoire uniforme sur $[0;1[$."
   ]
  },
  {
   "cell_type": "code",
   "execution_count": null,
   "metadata": {},
   "outputs": [],
   "source": [
    "import random"
   ]
  },
  {
   "cell_type": "code",
   "execution_count": null,
   "metadata": {},
   "outputs": [],
   "source": [
    "%matplotlib inline"
   ]
  },
  {
   "cell_type": "markdown",
   "metadata": {},
   "source": [
    "## Loi binomiale"
   ]
  },
  {
   "cell_type": "code",
   "execution_count": null,
   "metadata": {},
   "outputs": [],
   "source": [
    "def simbin(n,p):\n",
    "    x=0\n",
    "    for k in range(n):\n",
    "        if random.random()<p:\n",
    "            x=x+1\n",
    "    return x"
   ]
  },
  {
   "cell_type": "code",
   "execution_count": null,
   "metadata": {},
   "outputs": [],
   "source": [
    "simbin(20,0.3)"
   ]
  },
  {
   "cell_type": "code",
   "execution_count": null,
   "metadata": {},
   "outputs": [],
   "source": [
    "l=[]\n",
    "for i in range(100):\n",
    "    l.append(simbin(20,0.3))\n",
    "print(l)"
   ]
  },
  {
   "cell_type": "markdown",
   "metadata": {},
   "source": [
    "### Quelques visualisations"
   ]
  },
  {
   "cell_type": "code",
   "execution_count": null,
   "metadata": {},
   "outputs": [],
   "source": [
    "import matplotlib.pyplot as plt\n",
    "plt.plot(l)\n",
    "plt.show()"
   ]
  },
  {
   "cell_type": "code",
   "execution_count": null,
   "metadata": {},
   "outputs": [],
   "source": [
    "n,p,N=50,0.4,1000\n",
    "effectifs=[0]*(n+1)\n",
    "l=[]\n",
    "for i in range(N):\n",
    "    x=simbin(n,p)\n",
    "    l.append(x)\n",
    "    effectifs[x]+=1\n",
    "plt.bar(range(n+1),effectifs)\n",
    "plt.show()"
   ]
  },
  {
   "cell_type": "markdown",
   "metadata": {},
   "source": [
    "**Ex1** Décrire le graphique : qu'a-t-on en abscisse ? En ordonnée ? Quels sont les paramètres ? Essayer d'autres valeurs pour ces paramètres."
   ]
  },
  {
   "cell_type": "code",
   "execution_count": null,
   "metadata": {},
   "outputs": [],
   "source": []
  },
  {
   "cell_type": "code",
   "execution_count": null,
   "metadata": {},
   "outputs": [],
   "source": []
  },
  {
   "cell_type": "markdown",
   "metadata": {},
   "source": [
    "### Espérance et écart type"
   ]
  },
  {
   "cell_type": "code",
   "execution_count": null,
   "metadata": {},
   "outputs": [],
   "source": [
    "def stats(l):\n",
    "    s,sc=0,0\n",
    "    n=len(l)\n",
    "    for x in l:\n",
    "        s=s+x\n",
    "        sc=sc+x**2\n",
    "    moy=s/n\n",
    "    var=sc/n-moy**2\n",
    "    return moy, var"
   ]
  },
  {
   "cell_type": "code",
   "execution_count": null,
   "metadata": {},
   "outputs": [],
   "source": [
    "stats(l)"
   ]
  },
  {
   "cell_type": "code",
   "execution_count": null,
   "metadata": {},
   "outputs": [],
   "source": [
    "print(n*p,n*p*(1-p))"
   ]
  },
  {
   "cell_type": "code",
   "execution_count": null,
   "metadata": {},
   "outputs": [],
   "source": []
  },
  {
   "cell_type": "code",
   "execution_count": null,
   "metadata": {},
   "outputs": [],
   "source": []
  },
  {
   "cell_type": "markdown",
   "metadata": {},
   "source": [
    "### Une application de la loi binimiale : la dérive génétique"
   ]
  },
  {
   "cell_type": "markdown",
   "metadata": {},
   "source": [
    "Dans une population coexistent deux allèles pour un même gène, et on va s'intéresser aux variations de la fréquence de chaque allèle au cours des générations.\n",
    "A chaque génération, la population d'allèles est tirée au hasard conformément à la proportion de la génération précédente. "
   ]
  },
  {
   "cell_type": "code",
   "execution_count": null,
   "metadata": {},
   "outputs": [],
   "source": [
    "a,b=10,30  #effctif initial des deux allèles\n",
    "n=a+b #population toale, qui va rester constante\n",
    "N=200 #nombre de générations\n",
    "x,y=[a],[b]\n",
    "for generation in range(N):\n",
    "    a=simbin(N,a/N)\n",
    "    b=n-a\n",
    "    x.append(a)\n",
    "    y.append(b)\n",
    "\n",
    "plt.plot(x,label='allèle a')\n",
    "plt.plot(y,label='allèle b')\n",
    "plt.xlabel('générations')\n",
    "plt.legend()\n",
    "plt.plot()"
   ]
  },
  {
   "cell_type": "markdown",
   "metadata": {},
   "source": [
    "**Ex2** Faire plusieurs simulations en faisant varier les paramètres (on pourra en particulier augmenter la taille de la population et le nombre de générations). Qu'observe-t-on, en particulier en ce qui concerne la taille de la population sur la diversité génétique ? (Les SVT dites rien)"
   ]
  },
  {
   "cell_type": "code",
   "execution_count": null,
   "metadata": {},
   "outputs": [],
   "source": []
  },
  {
   "cell_type": "code",
   "execution_count": null,
   "metadata": {},
   "outputs": [],
   "source": []
  },
  {
   "cell_type": "markdown",
   "metadata": {},
   "source": [
    "### Décomposition radioactive"
   ]
  },
  {
   "cell_type": "markdown",
   "metadata": {},
   "source": [
    "On considère un nombre $N$ d'atomes qui se décomposent avec une probabilité $\\lambda \\mathrm{d}t$ où $\\lambda$ est un paramètre et $\\mathrm{d}t$ un court intervalle de temps.\n",
    "\n",
    "Alors le nombre d'atomes qui se décomposent suit une loi binomiale de paramètres $N$ et $\\lambda \\mathrm{d}t$."
   ]
  },
  {
   "cell_type": "code",
   "execution_count": null,
   "metadata": {},
   "outputs": [],
   "source": [
    "N=1000000 #un million d'atomes initialement\n",
    "l=.001 # chaque atome a une chance sur mille de se décomposer par jour\n",
    "dt=7 #on va compter en semaines\n",
    "quantité=[N]\n",
    "activité=[]\n",
    "while N>0:\n",
    "    x=simbin(N,l*dt) #nombre d'atomes qui se décomposent\n",
    "    activité.append(x)\n",
    "    N=N-x #quantité restante\n",
    "    quantité.append(N)\n",
    "\n",
    "plt.plot(activité,label='activité')\n",
    "plt.plot(quantité,label='quantité')\n",
    "plt.xlabel('temps en semaines')\n",
    "plt.title('Décroissance radioactive')\n",
    "plt.legend()\n",
    "plt.show()"
   ]
  },
  {
   "cell_type": "markdown",
   "metadata": {},
   "source": [
    "**Ex3** Que se passe-t-il si on part de $N=100$ avec $p=0.01$ ?"
   ]
  },
  {
   "cell_type": "code",
   "execution_count": null,
   "metadata": {},
   "outputs": [],
   "source": []
  },
  {
   "cell_type": "code",
   "execution_count": null,
   "metadata": {},
   "outputs": [],
   "source": []
  },
  {
   "cell_type": "markdown",
   "metadata": {},
   "source": [
    "**Ex4** Quel est le lien entre les deux suites représentées ? Pourquoi a-t-on relié les points ? Quel est le lien entre les deux fonctions ?"
   ]
  },
  {
   "cell_type": "code",
   "execution_count": null,
   "metadata": {},
   "outputs": [],
   "source": []
  },
  {
   "cell_type": "code",
   "execution_count": null,
   "metadata": {},
   "outputs": [],
   "source": []
  },
  {
   "cell_type": "markdown",
   "metadata": {},
   "source": [
    "## La loi géométrique "
   ]
  },
  {
   "cell_type": "markdown",
   "metadata": {},
   "source": [
    "On répète indépendamment une épreuve à deux issues jusqu'au premier succès, la valeur prise par la variable aléatoire est le rang du premier succès."
   ]
  },
  {
   "cell_type": "code",
   "execution_count": null,
   "metadata": {},
   "outputs": [],
   "source": [
    "def simgeo(p):\n",
    "    x=1\n",
    "    while random.random()>p:\n",
    "        x=x+1\n",
    "    return x"
   ]
  },
  {
   "cell_type": "code",
   "execution_count": null,
   "metadata": {},
   "outputs": [],
   "source": [
    "l=[]\n",
    "for k in range(20):\n",
    "    l.append(simgeo(0.1))\n",
    "print(l)"
   ]
  },
  {
   "cell_type": "markdown",
   "metadata": {},
   "source": [
    "**Ex5** Calculer la moyenne et l'écart-type pour une série de 10000 lancers avec $p=0.2$."
   ]
  },
  {
   "cell_type": "code",
   "execution_count": null,
   "metadata": {},
   "outputs": [],
   "source": []
  },
  {
   "cell_type": "code",
   "execution_count": null,
   "metadata": {},
   "outputs": [],
   "source": []
  },
  {
   "cell_type": "markdown",
   "metadata": {},
   "source": [
    "**Ex6** Si on note $X$ une variable aléatoire qui suit la loi géométrique de paramètre $p>0$, quelle est la probabilité $P(X=1)$ ? La probabilité $P(X>1)$ ? La probabilité $P(X>2)$ ? La probabilité $P(X=2)$ ? La probabilité $P(X>k)$ ? La probabilité $P(X>k+1)$ ? La probabilité $P(X=k+1)$ ?"
   ]
  },
  {
   "cell_type": "code",
   "execution_count": null,
   "metadata": {},
   "outputs": [],
   "source": []
  },
  {
   "cell_type": "code",
   "execution_count": null,
   "metadata": {},
   "outputs": [],
   "source": []
  },
  {
   "cell_type": "markdown",
   "metadata": {},
   "source": [
    "**Ex7** Représenter les 100 premiers termes de la suite $\\left(P(X=n)\\right)_{n \\in \\mathbb{N}}$ où $X$ suit la loi géométrique de paramètre $p=0.1$."
   ]
  },
  {
   "cell_type": "code",
   "execution_count": null,
   "metadata": {},
   "outputs": [],
   "source": []
  },
  {
   "cell_type": "code",
   "execution_count": null,
   "metadata": {},
   "outputs": [],
   "source": []
  },
  {
   "cell_type": "markdown",
   "metadata": {},
   "source": [
    "## Une loi continue"
   ]
  },
  {
   "cell_type": "markdown",
   "metadata": {},
   "source": [
    "Les valeurs renvoyées par `random.random()` sont uniformément réparties sur l'intervalle $[0;1[$, d'après la documentation Python. Nous allons tenter de le vérifier expériementalement."
   ]
  },
  {
   "cell_type": "code",
   "execution_count": null,
   "metadata": {},
   "outputs": [],
   "source": [
    "l=[]\n",
    "for k in range(100):\n",
    "    l.append(random.random())\n",
    "print(l)"
   ]
  },
  {
   "cell_type": "code",
   "execution_count": null,
   "metadata": {},
   "outputs": [],
   "source": [
    "plt.hist(l,bins=10)\n",
    "plt.show()"
   ]
  },
  {
   "cell_type": "markdown",
   "metadata": {},
   "source": [
    "**Ex8** Refaire le même type de graphique avec $N=1000$ tirages. Qu'observe-t-on ? Que se passe-t-il si on prend comme valeur du paramètre `bins=100` ? Rajouter l'argument optionnel `density=True` et commenter l'effet obtenu."
   ]
  },
  {
   "cell_type": "code",
   "execution_count": null,
   "metadata": {},
   "outputs": [],
   "source": []
  },
  {
   "cell_type": "code",
   "execution_count": null,
   "metadata": {},
   "outputs": [],
   "source": []
  },
  {
   "cell_type": "markdown",
   "metadata": {},
   "source": [
    "## Une méthode de Monte Carlo"
   ]
  },
  {
   "cell_type": "markdown",
   "metadata": {},
   "source": [
    "**Ex9** Tracer la fonction $f(x)=\\sqrt{1-x^2}$ sur l'intervalle $[0;1]$,\n",
    "\n",
    "on utilisera l'instruction `plt.axis('equal')` pour avoir un repère orthonormé,\n",
    "\n",
    "puis calculer intelligemment $\\displaystyle \\int_0^1 f(x) \\,\\mathrm{d}x$ (nul besoin de primitive ici)."
   ]
  },
  {
   "cell_type": "code",
   "execution_count": null,
   "metadata": {},
   "outputs": [],
   "source": []
  },
  {
   "cell_type": "code",
   "execution_count": null,
   "metadata": {},
   "outputs": [],
   "source": []
  },
  {
   "cell_type": "code",
   "execution_count": null,
   "metadata": {},
   "outputs": [],
   "source": [
    "N=10000\n",
    "n=0\n",
    "for k in range(N):\n",
    "    x=random.random()\n",
    "    y=random.random()\n",
    "    if x**2+y**2<1:\n",
    "        plt.plot(x,y,'ro')\n",
    "        n=n+1\n",
    "    else:\n",
    "        plt.plot(x,y,'go')\n",
    "plt.axis('equal')\n",
    "plt.show()"
   ]
  },
  {
   "cell_type": "code",
   "execution_count": null,
   "metadata": {},
   "outputs": [],
   "source": [
    "print (4*n/N)"
   ]
  },
  {
   "cell_type": "markdown",
   "metadata": {},
   "source": [
    "**Ex10** Quelle est la loi suivie par la variable aléatoire $n$ ? \n",
    "\n",
    "Donner son espérance et son écart type."
   ]
  },
  {
   "cell_type": "code",
   "execution_count": null,
   "metadata": {},
   "outputs": [],
   "source": []
  },
  {
   "cell_type": "code",
   "execution_count": null,
   "metadata": {},
   "outputs": [],
   "source": []
  },
  {
   "cell_type": "markdown",
   "metadata": {},
   "source": [
    "## Bonus"
   ]
  },
  {
   "cell_type": "code",
   "execution_count": null,
   "metadata": {},
   "outputs": [],
   "source": [
    "def mystere():\n",
    "    x=0\n",
    "    n=0\n",
    "    while x<1:\n",
    "        x=x+random.random()\n",
    "        n=n+1\n",
    "    return n"
   ]
  },
  {
   "cell_type": "markdown",
   "metadata": {},
   "source": [
    "**Ex bonus** A partir de quelques cientaines de simulations, estimer l'espérance et l'écart type de la loi de la variable aléatoire simulée par la fonction `mystere`. Faire un dessin."
   ]
  },
  {
   "cell_type": "code",
   "execution_count": null,
   "metadata": {},
   "outputs": [],
   "source": []
  },
  {
   "cell_type": "code",
   "execution_count": null,
   "metadata": {},
   "outputs": [],
   "source": []
  },
  {
   "cell_type": "markdown",
   "metadata": {},
   "source": [
    "<a href=\"http://perso.eleves.ens-rennes.fr/people/emeline.luirard/enseignements/TPagreg/tp2Python.pdf\"> un TP intéressant par Emeline LUIRARD</a>"
   ]
  },
  {
   "cell_type": "code",
   "execution_count": null,
   "metadata": {},
   "outputs": [],
   "source": []
  }
 ],
 "metadata": {
  "kernelspec": {
   "display_name": "Python 3",
   "language": "python",
   "name": "python3"
  },
  "language_info": {
   "codemirror_mode": {
    "name": "ipython",
    "version": 3
   },
   "file_extension": ".py",
   "mimetype": "text/x-python",
   "name": "python",
   "nbconvert_exporter": "python",
   "pygments_lexer": "ipython3",
   "version": "3.7.5"
  }
 },
 "nbformat": 4,
 "nbformat_minor": 2
}
